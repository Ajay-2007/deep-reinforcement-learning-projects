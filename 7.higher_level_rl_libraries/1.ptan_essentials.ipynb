{
  "nbformat": 4,
  "nbformat_minor": 0,
  "metadata": {
    "colab": {
      "name": "1.ptan_essentials.ipynb",
      "provenance": [],
      "collapsed_sections": []
    },
    "kernelspec": {
      "name": "python3",
      "display_name": "Python 3"
    },
    "accelerator": "GPU"
  },
  "cells": [
    {
      "cell_type": "code",
      "metadata": {
        "id": "wtq58InE1mtd",
        "colab_type": "code",
        "colab": {}
      },
      "source": [
        "#%cd drive/My\\ Drive/Colab\\ Notebooks/drlp"
      ],
      "execution_count": 0,
      "outputs": []
    },
    {
      "cell_type": "code",
      "metadata": {
        "id": "mgOjdOqv1wwf",
        "colab_type": "code",
        "colab": {}
      },
      "source": [
        "#%pip install -r requirements.txt "
      ],
      "execution_count": 0,
      "outputs": []
    },
    {
      "cell_type": "code",
      "metadata": {
        "id": "YzGGirF45DK9",
        "colab_type": "code",
        "colab": {}
      },
      "source": [
        "import numpy as np\n",
        "import ptan"
      ],
      "execution_count": 0,
      "outputs": []
    },
    {
      "cell_type": "code",
      "metadata": {
        "id": "4RpiKt7B5MGM",
        "colab_type": "code",
        "colab": {}
      },
      "source": [
        "q_vals = np.array([[1, 2, 3], [1, -1, 0]])"
      ],
      "execution_count": 0,
      "outputs": []
    },
    {
      "cell_type": "code",
      "metadata": {
        "id": "OGKsqyJo5TZl",
        "colab_type": "code",
        "colab": {
          "base_uri": "https://localhost:8080/",
          "height": 51
        },
        "outputId": "2982ef65-a5c0-4361-a442-b5e9221a3eb2"
      },
      "source": [
        "q_vals"
      ],
      "execution_count": 58,
      "outputs": [
        {
          "output_type": "execute_result",
          "data": {
            "text/plain": [
              "array([[ 1,  2,  3],\n",
              "       [ 1, -1,  0]])"
            ]
          },
          "metadata": {
            "tags": []
          },
          "execution_count": 58
        }
      ]
    },
    {
      "cell_type": "code",
      "metadata": {
        "id": "6-9z54Po5VCV",
        "colab_type": "code",
        "colab": {}
      },
      "source": [
        "selector = ptan.actions.ArgmaxActionSelector()"
      ],
      "execution_count": 0,
      "outputs": []
    },
    {
      "cell_type": "code",
      "metadata": {
        "id": "uFyNz7qD5aNF",
        "colab_type": "code",
        "colab": {
          "base_uri": "https://localhost:8080/",
          "height": 34
        },
        "outputId": "c2155ed9-a96e-430a-d082-2539e2b9ed56"
      },
      "source": [
        "selector(q_vals)"
      ],
      "execution_count": 60,
      "outputs": [
        {
          "output_type": "execute_result",
          "data": {
            "text/plain": [
              "array([2, 0])"
            ]
          },
          "metadata": {
            "tags": []
          },
          "execution_count": 60
        }
      ]
    },
    {
      "cell_type": "code",
      "metadata": {
        "id": "ERhbbRbv5b_a",
        "colab_type": "code",
        "colab": {}
      },
      "source": [
        "selector = ptan.actions.EpsilonGreedyActionSelector(epsilon=0.0)"
      ],
      "execution_count": 0,
      "outputs": []
    },
    {
      "cell_type": "code",
      "metadata": {
        "id": "XAwR-_qP5k4y",
        "colab_type": "code",
        "colab": {
          "base_uri": "https://localhost:8080/",
          "height": 34
        },
        "outputId": "19291e7e-356c-435f-aeee-697a4ae322e5"
      },
      "source": [
        "selector(q_vals)"
      ],
      "execution_count": 62,
      "outputs": [
        {
          "output_type": "execute_result",
          "data": {
            "text/plain": [
              "array([2, 0])"
            ]
          },
          "metadata": {
            "tags": []
          },
          "execution_count": 62
        }
      ]
    },
    {
      "cell_type": "code",
      "metadata": {
        "id": "jVfzpCTP5mQR",
        "colab_type": "code",
        "colab": {}
      },
      "source": [
        "selector = ptan.actions.EpsilonGreedyActionSelector(epsilon=1.0)"
      ],
      "execution_count": 0,
      "outputs": []
    },
    {
      "cell_type": "code",
      "metadata": {
        "id": "y341MSFt5uUC",
        "colab_type": "code",
        "colab": {
          "base_uri": "https://localhost:8080/",
          "height": 34
        },
        "outputId": "570e9c2c-40e2-48a4-a12c-ad9a295c060e"
      },
      "source": [
        "selector(q_vals)"
      ],
      "execution_count": 64,
      "outputs": [
        {
          "output_type": "execute_result",
          "data": {
            "text/plain": [
              "array([0, 1])"
            ]
          },
          "metadata": {
            "tags": []
          },
          "execution_count": 64
        }
      ]
    },
    {
      "cell_type": "code",
      "metadata": {
        "id": "5enmfD7B5vac",
        "colab_type": "code",
        "colab": {}
      },
      "source": [
        "selector = ptan.actions.ProbabilityActionSelector()"
      ],
      "execution_count": 0,
      "outputs": []
    },
    {
      "cell_type": "code",
      "metadata": {
        "id": "l3VI6lMV56-K",
        "colab_type": "code",
        "colab": {
          "base_uri": "https://localhost:8080/",
          "height": 187
        },
        "outputId": "254e9dde-e039-4583-b058-34de8f7ded95"
      },
      "source": [
        "for _ in range(10):\n",
        "  acts = selector(np.array(\n",
        "      [\n",
        "       [0.1, 0.8, 0.1],\n",
        "       [0.0, 0.0, 1.0],\n",
        "       [0.5, 0.5, 0.0] \n",
        "      ]\n",
        "  ))\n",
        "  print(acts)"
      ],
      "execution_count": 66,
      "outputs": [
        {
          "output_type": "stream",
          "text": [
            "[1 2 1]\n",
            "[1 2 0]\n",
            "[1 2 1]\n",
            "[1 2 1]\n",
            "[0 2 1]\n",
            "[1 2 1]\n",
            "[1 2 0]\n",
            "[1 2 0]\n",
            "[1 2 0]\n",
            "[1 2 0]\n"
          ],
          "name": "stdout"
        }
      ]
    },
    {
      "cell_type": "code",
      "metadata": {
        "id": "ve6Dzciv7TdP",
        "colab_type": "code",
        "colab": {}
      },
      "source": [
        "import torch\n",
        "import torch.nn as nn"
      ],
      "execution_count": 0,
      "outputs": []
    },
    {
      "cell_type": "code",
      "metadata": {
        "id": "y0RXpGRS6GAB",
        "colab_type": "code",
        "colab": {}
      },
      "source": [
        "class DQNNet(nn.Module):\n",
        "  def __init__(self, actions: int):\n",
        "    super(DQNNet, self).__init__()\n",
        "    self.actions = actions\n",
        "  \n",
        "  def forward(self, x):\n",
        "    return torch.eye(x.size()[0], self.actions)"
      ],
      "execution_count": 0,
      "outputs": []
    },
    {
      "cell_type": "code",
      "metadata": {
        "id": "uxh7QeXJ63x5",
        "colab_type": "code",
        "colab": {}
      },
      "source": [
        "net = DQNNet(actions=3)"
      ],
      "execution_count": 0,
      "outputs": []
    },
    {
      "cell_type": "code",
      "metadata": {
        "id": "ovybt1xj63ts",
        "colab_type": "code",
        "colab": {
          "base_uri": "https://localhost:8080/",
          "height": 51
        },
        "outputId": "950d2ae5-c424-4d29-a5e1-ecb34b307677"
      },
      "source": [
        "net(torch.zeros(2, 10))"
      ],
      "execution_count": 70,
      "outputs": [
        {
          "output_type": "execute_result",
          "data": {
            "text/plain": [
              "tensor([[1., 0., 0.],\n",
              "        [0., 1., 0.]])"
            ]
          },
          "metadata": {
            "tags": []
          },
          "execution_count": 70
        }
      ]
    },
    {
      "cell_type": "code",
      "metadata": {
        "id": "0lmJtLNH63r0",
        "colab_type": "code",
        "colab": {}
      },
      "source": [
        "selector = ptan.actions.ArgmaxActionSelector()"
      ],
      "execution_count": 0,
      "outputs": []
    },
    {
      "cell_type": "code",
      "metadata": {
        "id": "4EalnEqV63MY",
        "colab_type": "code",
        "colab": {}
      },
      "source": [
        "agent = ptan.agent.DQNAgent(dqn_model=net, action_selector=selector, device='cpu')"
      ],
      "execution_count": 0,
      "outputs": []
    },
    {
      "cell_type": "code",
      "metadata": {
        "id": "UlAhSpz163EY",
        "colab_type": "code",
        "colab": {
          "base_uri": "https://localhost:8080/",
          "height": 34
        },
        "outputId": "caa7f207-4d89-4458-b8f0-158c2f54e214"
      },
      "source": [
        "agent(torch.zeros(2, 5))"
      ],
      "execution_count": 73,
      "outputs": [
        {
          "output_type": "execute_result",
          "data": {
            "text/plain": [
              "(array([0, 1]), [None, None])"
            ]
          },
          "metadata": {
            "tags": []
          },
          "execution_count": 73
        }
      ]
    },
    {
      "cell_type": "code",
      "metadata": {
        "id": "K-ASBQ4Y73XS",
        "colab_type": "code",
        "colab": {}
      },
      "source": [
        "selector = ptan.actions.EpsilonGreedyActionSelector(epsilon=1.0)"
      ],
      "execution_count": 0,
      "outputs": []
    },
    {
      "cell_type": "code",
      "metadata": {
        "id": "r28BPrrX8uYq",
        "colab_type": "code",
        "colab": {}
      },
      "source": [
        "agent = ptan.agent.DQNAgent(dqn_model=net, action_selector=selector)"
      ],
      "execution_count": 0,
      "outputs": []
    },
    {
      "cell_type": "code",
      "metadata": {
        "id": "o8lTV5Nj85A3",
        "colab_type": "code",
        "colab": {
          "base_uri": "https://localhost:8080/",
          "height": 34
        },
        "outputId": "01bc7b16-c40f-4b74-dc5f-e6f2c7907525"
      },
      "source": [
        "agent(torch.zeros(10, 5))[0]"
      ],
      "execution_count": 76,
      "outputs": [
        {
          "output_type": "execute_result",
          "data": {
            "text/plain": [
              "array([1, 2, 2, 2, 0, 1, 2, 1, 1, 2])"
            ]
          },
          "metadata": {
            "tags": []
          },
          "execution_count": 76
        }
      ]
    },
    {
      "cell_type": "code",
      "metadata": {
        "id": "ZdXV-bf_870G",
        "colab_type": "code",
        "colab": {}
      },
      "source": [
        "selector.epsilon = 0.5"
      ],
      "execution_count": 0,
      "outputs": []
    },
    {
      "cell_type": "code",
      "metadata": {
        "id": "Pkk3EI4g9rGg",
        "colab_type": "code",
        "colab": {
          "base_uri": "https://localhost:8080/",
          "height": 34
        },
        "outputId": "c26072e7-58eb-4450-9fad-9f49e1cdc25c"
      },
      "source": [
        "agent(torch.zeros(10, 5))[0]"
      ],
      "execution_count": 78,
      "outputs": [
        {
          "output_type": "execute_result",
          "data": {
            "text/plain": [
              "array([0, 0, 2, 0, 2, 2, 0, 0, 0, 2])"
            ]
          },
          "metadata": {
            "tags": []
          },
          "execution_count": 78
        }
      ]
    },
    {
      "cell_type": "code",
      "metadata": {
        "id": "FW37sa089tiW",
        "colab_type": "code",
        "colab": {}
      },
      "source": [
        "selector.epsilon = 0.1"
      ],
      "execution_count": 0,
      "outputs": []
    },
    {
      "cell_type": "code",
      "metadata": {
        "id": "aoR0v0Bk9yOb",
        "colab_type": "code",
        "colab": {
          "base_uri": "https://localhost:8080/",
          "height": 34
        },
        "outputId": "8109645e-f655-444f-de3b-553aa328c206"
      },
      "source": [
        "agent(torch.zeros(10, 5))[0]"
      ],
      "execution_count": 80,
      "outputs": [
        {
          "output_type": "execute_result",
          "data": {
            "text/plain": [
              "array([0, 1, 2, 0, 0, 0, 0, 0, 0, 0])"
            ]
          },
          "metadata": {
            "tags": []
          },
          "execution_count": 80
        }
      ]
    },
    {
      "cell_type": "code",
      "metadata": {
        "id": "fZ3caw40-I55",
        "colab_type": "code",
        "colab": {}
      },
      "source": [
        "class PolicyNet(nn.Module):\n",
        "  def __init__(self, actions: int):\n",
        "    super(PolicyNet, self).__init__()\n",
        "    self.actions = actions\n",
        "  \n",
        "  def forward(self, x):\n",
        "    shape = (x.size()[0], self.actions)\n",
        "    res = torch.zeros(shape, dtype=torch.float32)\n",
        "    res[:, 0] = 1\n",
        "    res[:, 1] = 1\n",
        "    return res"
      ],
      "execution_count": 0,
      "outputs": []
    },
    {
      "cell_type": "code",
      "metadata": {
        "id": "hVGZYEOs_6NM",
        "colab_type": "code",
        "colab": {}
      },
      "source": [
        "net = PolicyNet(actions=5)"
      ],
      "execution_count": 0,
      "outputs": []
    },
    {
      "cell_type": "code",
      "metadata": {
        "id": "ulEOzPZs__fs",
        "colab_type": "code",
        "colab": {
          "base_uri": "https://localhost:8080/",
          "height": 119
        },
        "outputId": "a0dcbc55-47dd-45e1-afe8-5831992fa964"
      },
      "source": [
        "net(torch.zeros(6, 10))"
      ],
      "execution_count": 83,
      "outputs": [
        {
          "output_type": "execute_result",
          "data": {
            "text/plain": [
              "tensor([[1., 1., 0., 0., 0.],\n",
              "        [1., 1., 0., 0., 0.],\n",
              "        [1., 1., 0., 0., 0.],\n",
              "        [1., 1., 0., 0., 0.],\n",
              "        [1., 1., 0., 0., 0.],\n",
              "        [1., 1., 0., 0., 0.]])"
            ]
          },
          "metadata": {
            "tags": []
          },
          "execution_count": 83
        }
      ]
    },
    {
      "cell_type": "code",
      "metadata": {
        "id": "LjzZxPXUAD3x",
        "colab_type": "code",
        "colab": {}
      },
      "source": [
        "selector = ptan.actions.ProbabilityActionSelector()"
      ],
      "execution_count": 0,
      "outputs": []
    },
    {
      "cell_type": "code",
      "metadata": {
        "id": "yyFQ2h8gAl-z",
        "colab_type": "code",
        "colab": {}
      },
      "source": [
        "agent = ptan.agent.PolicyAgent(model=net, action_selector=selector, apply_softmax=True)"
      ],
      "execution_count": 0,
      "outputs": []
    },
    {
      "cell_type": "code",
      "metadata": {
        "id": "038gdZ_gAt9H",
        "colab_type": "code",
        "colab": {
          "base_uri": "https://localhost:8080/",
          "height": 34
        },
        "outputId": "db3da598-82f4-4d2a-9e58-a90a35380f6f"
      },
      "source": [
        "agent(torch.zeros(6, 5))[0]"
      ],
      "execution_count": 86,
      "outputs": [
        {
          "output_type": "execute_result",
          "data": {
            "text/plain": [
              "array([0, 1, 0, 2, 1, 0])"
            ]
          },
          "metadata": {
            "tags": []
          },
          "execution_count": 86
        }
      ]
    },
    {
      "cell_type": "code",
      "metadata": {
        "id": "SLzSE_yvAxXL",
        "colab_type": "code",
        "colab": {
          "base_uri": "https://localhost:8080/",
          "height": 34
        },
        "outputId": "9e56b134-9261-489f-8f0e-d6963c709cf6"
      },
      "source": [
        "  torch.nn.functional.softmax(net(torch.zeros(1, 10)), dim=1)"
      ],
      "execution_count": 87,
      "outputs": [
        {
          "output_type": "execute_result",
          "data": {
            "text/plain": [
              "tensor([[0.3222, 0.3222, 0.1185, 0.1185, 0.1185]])"
            ]
          },
          "metadata": {
            "tags": []
          },
          "execution_count": 87
        }
      ]
    },
    {
      "cell_type": "code",
      "metadata": {
        "id": "pGgjWEHLBG-P",
        "colab_type": "code",
        "colab": {
          "base_uri": "https://localhost:8080/",
          "height": 34
        },
        "outputId": "3ffef185-e71c-4b43-f6a1-5d7639bcabfd"
      },
      "source": [
        "!mv '/content/drive/My Drive/requirements.txt' ."
      ],
      "execution_count": 88,
      "outputs": [
        {
          "output_type": "stream",
          "text": [
            "mv: cannot stat '/content/drive/My Drive/requirements.txt': No such file or directory\n"
          ],
          "name": "stdout"
        }
      ]
    },
    {
      "cell_type": "code",
      "metadata": {
        "id": "rCjvNsXgC4dk",
        "colab_type": "code",
        "colab": {}
      },
      "source": [
        "import gym"
      ],
      "execution_count": 0,
      "outputs": []
    },
    {
      "cell_type": "code",
      "metadata": {
        "id": "p1mM8vfSJwJ6",
        "colab_type": "code",
        "colab": {}
      },
      "source": [
        "class ToyEnv(gym.Env):\n",
        "  def __init__(self):\n",
        "    super(ToyEnv, self).__init__()\n",
        "    self.observation_space = gym.spaces.Discrete(n=5)\n",
        "    self.action_space = gym.spaces.Discrete(n=3)\n",
        "\n",
        "    self.step_index = 0\n",
        "\n",
        "  def reset(self):\n",
        "    self.step_index = 0\n",
        "    return self.step_index\n",
        "  \n",
        "  def step(self, action):\n",
        "    is_done = self.step_index == 10\n",
        "    if is_done:\n",
        "      return self.step_index % self.observation_space.n, 0.0, is_done, {}\n",
        "    \n",
        "    self.step_index += 1\n",
        "    return self.step_index % self.observation_space.n, float(action), self.step_index == 10, {}\n",
        "    "
      ],
      "execution_count": 0,
      "outputs": []
    },
    {
      "cell_type": "code",
      "metadata": {
        "id": "PM9W4OJPLT1x",
        "colab_type": "code",
        "colab": {}
      },
      "source": [
        "from typing import *\n",
        "from typing import Tuple"
      ],
      "execution_count": 0,
      "outputs": []
    },
    {
      "cell_type": "code",
      "metadata": {
        "id": "tQKCliMnK2wh",
        "colab_type": "code",
        "colab": {}
      },
      "source": [
        "class DullAgent(ptan.agent.BaseAgent):\n",
        "  def __init__(self, action : int):\n",
        "    self.action = action\n",
        "  \n",
        "  def __call__(self, observations: List[Any], state: Optional[List] = None):\n",
        "    return [self.action for _ in observations], state"
      ],
      "execution_count": 0,
      "outputs": []
    },
    {
      "cell_type": "code",
      "metadata": {
        "id": "G-pPZ8HXLRqC",
        "colab_type": "code",
        "colab": {}
      },
      "source": [
        "env = ToyEnv()\n",
        "agent = DullAgent(action=1)\n"
      ],
      "execution_count": 0,
      "outputs": []
    },
    {
      "cell_type": "code",
      "metadata": {
        "id": "8HPKwE7YNMdD",
        "colab_type": "code",
        "colab": {}
      },
      "source": [
        "exp_source = ptan.experience.ExperienceSource(env=env, agent=agent, steps_count=2)"
      ],
      "execution_count": 0,
      "outputs": []
    },
    {
      "cell_type": "code",
      "metadata": {
        "id": "j8PbqXUyNXQE",
        "colab_type": "code",
        "colab": {
          "base_uri": "https://localhost:8080/",
          "height": 68
        },
        "outputId": "72736dd9-ca2e-4a7f-c2b7-497568d2c5fd"
      },
      "source": [
        "for idx, exp in enumerate(exp_source):\n",
        "  if idx > 2:\n",
        "    break\n",
        "  \n",
        "  print(exp)"
      ],
      "execution_count": 95,
      "outputs": [
        {
          "output_type": "stream",
          "text": [
            "(Experience(state=0, action=1, reward=1.0, done=False), Experience(state=1, action=1, reward=1.0, done=False))\n",
            "(Experience(state=1, action=1, reward=1.0, done=False), Experience(state=2, action=1, reward=1.0, done=False))\n",
            "(Experience(state=2, action=1, reward=1.0, done=False), Experience(state=3, action=1, reward=1.0, done=False))\n"
          ],
          "name": "stdout"
        }
      ]
    },
    {
      "cell_type": "code",
      "metadata": {
        "id": "sQg4aKO2NdUI",
        "colab_type": "code",
        "colab": {
          "base_uri": "https://localhost:8080/",
          "height": 289
        },
        "outputId": "f45633db-fe29-4008-c4be-3bdbc426ef7c"
      },
      "source": [
        "for idx, exp in enumerate(exp_source):\n",
        "  if idx > 15:\n",
        "    break\n",
        "  print(exp)"
      ],
      "execution_count": 96,
      "outputs": [
        {
          "output_type": "stream",
          "text": [
            "(Experience(state=0, action=1, reward=1.0, done=False), Experience(state=1, action=1, reward=1.0, done=False))\n",
            "(Experience(state=1, action=1, reward=1.0, done=False), Experience(state=2, action=1, reward=1.0, done=False))\n",
            "(Experience(state=2, action=1, reward=1.0, done=False), Experience(state=3, action=1, reward=1.0, done=False))\n",
            "(Experience(state=3, action=1, reward=1.0, done=False), Experience(state=4, action=1, reward=1.0, done=False))\n",
            "(Experience(state=4, action=1, reward=1.0, done=False), Experience(state=0, action=1, reward=1.0, done=False))\n",
            "(Experience(state=0, action=1, reward=1.0, done=False), Experience(state=1, action=1, reward=1.0, done=False))\n",
            "(Experience(state=1, action=1, reward=1.0, done=False), Experience(state=2, action=1, reward=1.0, done=False))\n",
            "(Experience(state=2, action=1, reward=1.0, done=False), Experience(state=3, action=1, reward=1.0, done=False))\n",
            "(Experience(state=3, action=1, reward=1.0, done=False), Experience(state=4, action=1, reward=1.0, done=True))\n",
            "(Experience(state=4, action=1, reward=1.0, done=True),)\n",
            "(Experience(state=0, action=1, reward=1.0, done=False), Experience(state=1, action=1, reward=1.0, done=False))\n",
            "(Experience(state=1, action=1, reward=1.0, done=False), Experience(state=2, action=1, reward=1.0, done=False))\n",
            "(Experience(state=2, action=1, reward=1.0, done=False), Experience(state=3, action=1, reward=1.0, done=False))\n",
            "(Experience(state=3, action=1, reward=1.0, done=False), Experience(state=4, action=1, reward=1.0, done=False))\n",
            "(Experience(state=4, action=1, reward=1.0, done=False), Experience(state=0, action=1, reward=1.0, done=False))\n",
            "(Experience(state=0, action=1, reward=1.0, done=False), Experience(state=1, action=1, reward=1.0, done=False))\n"
          ],
          "name": "stdout"
        }
      ]
    },
    {
      "cell_type": "code",
      "metadata": {
        "id": "nX_D3ijVP6mL",
        "colab_type": "code",
        "colab": {}
      },
      "source": [
        "exp_source = ptan.experience.ExperienceSource(env=env, agent=agent, steps_count=4)"
      ],
      "execution_count": 0,
      "outputs": []
    },
    {
      "cell_type": "code",
      "metadata": {
        "id": "Wq-KPQhzQOIr",
        "colab_type": "code",
        "colab": {
          "base_uri": "https://localhost:8080/",
          "height": 85
        },
        "outputId": "d2327cc3-3733-4c7a-8107-f4a06b3f4db1"
      },
      "source": [
        "next(iter(exp_source))"
      ],
      "execution_count": 98,
      "outputs": [
        {
          "output_type": "execute_result",
          "data": {
            "text/plain": [
              "(Experience(state=0, action=1, reward=1.0, done=False),\n",
              " Experience(state=1, action=1, reward=1.0, done=False),\n",
              " Experience(state=2, action=1, reward=1.0, done=False),\n",
              " Experience(state=3, action=1, reward=1.0, done=False))"
            ]
          },
          "metadata": {
            "tags": []
          },
          "execution_count": 98
        }
      ]
    },
    {
      "cell_type": "code",
      "metadata": {
        "id": "sbWiWusqQdO2",
        "colab_type": "code",
        "colab": {}
      },
      "source": [
        "exp_source = ptan.experience.ExperienceSource(env=[env, env], agent=agent, steps_count=4)"
      ],
      "execution_count": 0,
      "outputs": []
    },
    {
      "cell_type": "code",
      "metadata": {
        "id": "hisuy7cIQsVn",
        "colab_type": "code",
        "colab": {
          "base_uri": "https://localhost:8080/",
          "height": 122
        },
        "outputId": "ee420db2-e7b2-4a54-bf74-0d615bbe9fd6"
      },
      "source": [
        "for idx, exp in enumerate(exp_source):\n",
        "  if idx > 4:\n",
        "    break\n",
        "  print(exp)"
      ],
      "execution_count": 100,
      "outputs": [
        {
          "output_type": "stream",
          "text": [
            "(Experience(state=0, action=1, reward=1.0, done=False), Experience(state=1, action=1, reward=1.0, done=False), Experience(state=3, action=1, reward=1.0, done=False), Experience(state=0, action=1, reward=1.0, done=False))\n",
            "(Experience(state=0, action=1, reward=1.0, done=False), Experience(state=2, action=1, reward=1.0, done=False), Experience(state=4, action=1, reward=1.0, done=False), Experience(state=1, action=1, reward=1.0, done=False))\n",
            "(Experience(state=1, action=1, reward=1.0, done=False), Experience(state=3, action=1, reward=1.0, done=False), Experience(state=0, action=1, reward=1.0, done=False), Experience(state=2, action=1, reward=1.0, done=False))\n",
            "(Experience(state=2, action=1, reward=1.0, done=False), Experience(state=4, action=1, reward=1.0, done=False), Experience(state=1, action=1, reward=1.0, done=False), Experience(state=3, action=1, reward=1.0, done=True))\n",
            "(Experience(state=4, action=1, reward=1.0, done=False), Experience(state=1, action=1, reward=1.0, done=False), Experience(state=3, action=1, reward=1.0, done=True))\n"
          ],
          "name": "stdout"
        }
      ]
    },
    {
      "cell_type": "code",
      "metadata": {
        "id": "uvtHubLzQyFu",
        "colab_type": "code",
        "colab": {}
      },
      "source": [
        "import ptan"
      ],
      "execution_count": 0,
      "outputs": []
    },
    {
      "cell_type": "code",
      "metadata": {
        "id": "AxcipJgKPUIA",
        "colab_type": "code",
        "colab": {}
      },
      "source": [
        "exp_source = ptan.experience.ExperienceSourceFirstLast(env=env, agent=agent, gamma=1.0, steps_count=1)"
      ],
      "execution_count": 0,
      "outputs": []
    },
    {
      "cell_type": "code",
      "metadata": {
        "id": "msc2xTP_Xu1b",
        "colab_type": "code",
        "colab": {
          "base_uri": "https://localhost:8080/",
          "height": 204
        },
        "outputId": "66d54d64-7ac6-4fe7-f31c-ba823a4b89af"
      },
      "source": [
        "for idx, exp in enumerate(exp_source):\n",
        "  if idx > 10:\n",
        "    break\n",
        "  print(exp)"
      ],
      "execution_count": 107,
      "outputs": [
        {
          "output_type": "stream",
          "text": [
            "ExperienceFirstLast(state=0, action=1, reward=1.0, last_state=1)\n",
            "ExperienceFirstLast(state=1, action=1, reward=1.0, last_state=2)\n",
            "ExperienceFirstLast(state=2, action=1, reward=1.0, last_state=3)\n",
            "ExperienceFirstLast(state=3, action=1, reward=1.0, last_state=4)\n",
            "ExperienceFirstLast(state=4, action=1, reward=1.0, last_state=0)\n",
            "ExperienceFirstLast(state=0, action=1, reward=1.0, last_state=1)\n",
            "ExperienceFirstLast(state=1, action=1, reward=1.0, last_state=2)\n",
            "ExperienceFirstLast(state=2, action=1, reward=1.0, last_state=3)\n",
            "ExperienceFirstLast(state=3, action=1, reward=1.0, last_state=4)\n",
            "ExperienceFirstLast(state=4, action=1, reward=1.0, last_state=None)\n",
            "ExperienceFirstLast(state=0, action=1, reward=1.0, last_state=1)\n"
          ],
          "name": "stdout"
        }
      ]
    },
    {
      "cell_type": "code",
      "metadata": {
        "id": "iu1g1Yk7X9Bp",
        "colab_type": "code",
        "colab": {}
      },
      "source": [
        "%cat javascript.js"
      ],
      "execution_count": 0,
      "outputs": []
    },
    {
      "cell_type": "code",
      "metadata": {
        "id": "eY06s4vwX-5M",
        "colab_type": "code",
        "colab": {}
      },
      "source": [
        "exp_source = ptan.experience.ExperienceSourceFirstLast(env=env, agent=agent, gamma=1.0, steps_count=2)"
      ],
      "execution_count": 0,
      "outputs": []
    },
    {
      "cell_type": "code",
      "metadata": {
        "id": "xnc_4ujaX-1k",
        "colab_type": "code",
        "colab": {
          "base_uri": "https://localhost:8080/",
          "height": 204
        },
        "outputId": "72847d97-fd6e-4efd-fc70-d4ad5a8bea15"
      },
      "source": [
        "for idx, exp in enumerate(exp_source):\n",
        "  if idx > 10:\n",
        "    break\n",
        "  print(exp)"
      ],
      "execution_count": 110,
      "outputs": [
        {
          "output_type": "stream",
          "text": [
            "ExperienceFirstLast(state=0, action=1, reward=2.0, last_state=2)\n",
            "ExperienceFirstLast(state=1, action=1, reward=2.0, last_state=3)\n",
            "ExperienceFirstLast(state=2, action=1, reward=2.0, last_state=4)\n",
            "ExperienceFirstLast(state=3, action=1, reward=2.0, last_state=0)\n",
            "ExperienceFirstLast(state=4, action=1, reward=2.0, last_state=1)\n",
            "ExperienceFirstLast(state=0, action=1, reward=2.0, last_state=2)\n",
            "ExperienceFirstLast(state=1, action=1, reward=2.0, last_state=3)\n",
            "ExperienceFirstLast(state=2, action=1, reward=2.0, last_state=4)\n",
            "ExperienceFirstLast(state=3, action=1, reward=2.0, last_state=None)\n",
            "ExperienceFirstLast(state=4, action=1, reward=1.0, last_state=None)\n",
            "ExperienceFirstLast(state=0, action=1, reward=2.0, last_state=2)\n"
          ],
          "name": "stdout"
        }
      ]
    },
    {
      "cell_type": "code",
      "metadata": {
        "id": "wTwWbARTX-z0",
        "colab_type": "code",
        "colab": {}
      },
      "source": [
        "env = ToyEnv()"
      ],
      "execution_count": 0,
      "outputs": []
    },
    {
      "cell_type": "code",
      "metadata": {
        "id": "Nl2MID66X-x2",
        "colab_type": "code",
        "colab": {}
      },
      "source": [
        "agent = DullAgent(action=1)"
      ],
      "execution_count": 0,
      "outputs": []
    },
    {
      "cell_type": "code",
      "metadata": {
        "id": "k5rkZX57X-wA",
        "colab_type": "code",
        "colab": {}
      },
      "source": [
        "exp_source = ptan.experience.ExperienceSourceFirstLast(env, agent, gamma=1.0, steps_count=1)"
      ],
      "execution_count": 0,
      "outputs": []
    },
    {
      "cell_type": "code",
      "metadata": {
        "id": "NsFuPbKcX-uU",
        "colab_type": "code",
        "colab": {}
      },
      "source": [
        "buffer = ptan.experience.ExperienceReplayBuffer(experience_source=exp_source, buffer_size=100)"
      ],
      "execution_count": 0,
      "outputs": []
    },
    {
      "cell_type": "code",
      "metadata": {
        "id": "TKZ1I_a8X-sR",
        "colab_type": "code",
        "colab": {
          "base_uri": "https://localhost:8080/",
          "height": 34
        },
        "outputId": "058cacac-c64a-4fa0-900c-6e72d642a542"
      },
      "source": [
        "len(buffer)"
      ],
      "execution_count": 122,
      "outputs": [
        {
          "output_type": "execute_result",
          "data": {
            "text/plain": [
              "0"
            ]
          },
          "metadata": {
            "tags": []
          },
          "execution_count": 122
        }
      ]
    },
    {
      "cell_type": "code",
      "metadata": {
        "id": "0BucJWi3X-qq",
        "colab_type": "code",
        "colab": {
          "base_uri": "https://localhost:8080/",
          "height": 255
        },
        "outputId": "80f86226-b4bd-4439-f4aa-093f65289311"
      },
      "source": [
        "for step in range(6):\n",
        "  buffer.populate(1)\n",
        "\n",
        "  if len(buffer) < 5:\n",
        "    batch  = buffer.sample(1)\n",
        "    print( ' This is experiement->', batch)\n",
        "    continue\n",
        "  batch  = buffer.sample(4)\n",
        "  print('Train time, %d batch samples:' %len(batch))\n",
        "  \n",
        "  for s in batch:\n",
        "    print(s)"
      ],
      "execution_count": 123,
      "outputs": [
        {
          "output_type": "stream",
          "text": [
            " This is experiement-> [ExperienceFirstLast(state=0, action=1, reward=1.0, last_state=1)]\n",
            " This is experiement-> [ExperienceFirstLast(state=1, action=1, reward=1.0, last_state=2)]\n",
            " This is experiement-> [ExperienceFirstLast(state=1, action=1, reward=1.0, last_state=2)]\n",
            " This is experiement-> [ExperienceFirstLast(state=0, action=1, reward=1.0, last_state=1)]\n",
            "Train time, 4 batch samples:\n",
            "ExperienceFirstLast(state=2, action=1, reward=1.0, last_state=3)\n",
            "ExperienceFirstLast(state=1, action=1, reward=1.0, last_state=2)\n",
            "ExperienceFirstLast(state=3, action=1, reward=1.0, last_state=4)\n",
            "ExperienceFirstLast(state=4, action=1, reward=1.0, last_state=0)\n",
            "Train time, 4 batch samples:\n",
            "ExperienceFirstLast(state=0, action=1, reward=1.0, last_state=1)\n",
            "ExperienceFirstLast(state=3, action=1, reward=1.0, last_state=4)\n",
            "ExperienceFirstLast(state=4, action=1, reward=1.0, last_state=0)\n",
            "ExperienceFirstLast(state=0, action=1, reward=1.0, last_state=1)\n"
          ],
          "name": "stdout"
        }
      ]
    },
    {
      "cell_type": "code",
      "metadata": {
        "id": "X1iexJ6qX-o-",
        "colab_type": "code",
        "colab": {}
      },
      "source": [
        " # The TargetNet Class"
      ],
      "execution_count": 0,
      "outputs": []
    },
    {
      "cell_type": "code",
      "metadata": {
        "id": "6d2ZOzUJX-ke",
        "colab_type": "code",
        "colab": {}
      },
      "source": [
        "class DQNNet(nn.Module):\n",
        "  def __init__(self):\n",
        "    super(DQNNet, self).__init__()\n",
        "    self.ff = nn.Linear(5, 3)\n",
        "  \n",
        "  def forward(self, x):\n",
        "    return self.ff(x)"
      ],
      "execution_count": 0,
      "outputs": []
    },
    {
      "cell_type": "code",
      "metadata": {
        "id": "GQtTKqE6X-h-",
        "colab_type": "code",
        "colab": {}
      },
      "source": [
        "net = DQNNet()"
      ],
      "execution_count": 0,
      "outputs": []
    },
    {
      "cell_type": "code",
      "metadata": {
        "id": "dTTWiycgX-fg",
        "colab_type": "code",
        "colab": {
          "base_uri": "https://localhost:8080/",
          "height": 68
        },
        "outputId": "8d9297b0-ff4d-4732-dc3e-8fcc9b3b7607"
      },
      "source": [
        "net"
      ],
      "execution_count": 127,
      "outputs": [
        {
          "output_type": "execute_result",
          "data": {
            "text/plain": [
              "DQNNet(\n",
              "  (ff): Linear(in_features=5, out_features=3, bias=True)\n",
              ")"
            ]
          },
          "metadata": {
            "tags": []
          },
          "execution_count": 127
        }
      ]
    },
    {
      "cell_type": "code",
      "metadata": {
        "id": "v90cdHxEX-db",
        "colab_type": "code",
        "colab": {}
      },
      "source": [
        "tgt_net = ptan.agent.TargetNet(net)"
      ],
      "execution_count": 0,
      "outputs": []
    },
    {
      "cell_type": "code",
      "metadata": {
        "id": "04U5rdHvX-a5",
        "colab_type": "code",
        "colab": {
          "base_uri": "https://localhost:8080/",
          "height": 85
        },
        "outputId": "5e71e3e1-d62f-4f3b-c9b0-6dd13b7a9837"
      },
      "source": [
        "net.ff.weight"
      ],
      "execution_count": 130,
      "outputs": [
        {
          "output_type": "execute_result",
          "data": {
            "text/plain": [
              "Parameter containing:\n",
              "tensor([[ 0.0539,  0.4224,  0.1722,  0.2179, -0.3346],\n",
              "        [-0.4162,  0.0744, -0.1779,  0.0076, -0.2441],\n",
              "        [-0.3310,  0.1990, -0.2176, -0.1843, -0.0221]], requires_grad=True)"
            ]
          },
          "metadata": {
            "tags": []
          },
          "execution_count": 130
        }
      ]
    },
    {
      "cell_type": "code",
      "metadata": {
        "id": "QumpUkpOhmrO",
        "colab_type": "code",
        "colab": {
          "base_uri": "https://localhost:8080/",
          "height": 85
        },
        "outputId": "ff51e6a1-8148-49d0-bb8f-442e912fd413"
      },
      "source": [
        "tgt_net.target_model.ff.weight"
      ],
      "execution_count": 131,
      "outputs": [
        {
          "output_type": "execute_result",
          "data": {
            "text/plain": [
              "Parameter containing:\n",
              "tensor([[ 0.0539,  0.4224,  0.1722,  0.2179, -0.3346],\n",
              "        [-0.4162,  0.0744, -0.1779,  0.0076, -0.2441],\n",
              "        [-0.3310,  0.1990, -0.2176, -0.1843, -0.0221]], requires_grad=True)"
            ]
          },
          "metadata": {
            "tags": []
          },
          "execution_count": 131
        }
      ]
    },
    {
      "cell_type": "code",
      "metadata": {
        "id": "mIpVypG_h18U",
        "colab_type": "code",
        "colab": {}
      },
      "source": [
        "net.ff.weight.data += 1.0"
      ],
      "execution_count": 0,
      "outputs": []
    },
    {
      "cell_type": "code",
      "metadata": {
        "id": "WabxqRBgh9oi",
        "colab_type": "code",
        "colab": {
          "base_uri": "https://localhost:8080/",
          "height": 85
        },
        "outputId": "8ff108b4-4dc1-43ba-bec4-bcb5c6589ade"
      },
      "source": [
        "net.ff.weight"
      ],
      "execution_count": 134,
      "outputs": [
        {
          "output_type": "execute_result",
          "data": {
            "text/plain": [
              "Parameter containing:\n",
              "tensor([[1.0539, 1.4224, 1.1722, 1.2179, 0.6654],\n",
              "        [0.5838, 1.0744, 0.8221, 1.0076, 0.7559],\n",
              "        [0.6690, 1.1990, 0.7824, 0.8157, 0.9779]], requires_grad=True)"
            ]
          },
          "metadata": {
            "tags": []
          },
          "execution_count": 134
        }
      ]
    },
    {
      "cell_type": "code",
      "metadata": {
        "id": "xird7H2_h_Bh",
        "colab_type": "code",
        "colab": {
          "base_uri": "https://localhost:8080/",
          "height": 85
        },
        "outputId": "7d739f79-0431-4098-ccf1-a9e4da5f3cb0"
      },
      "source": [
        "tgt_net.target_model.ff.weight"
      ],
      "execution_count": 135,
      "outputs": [
        {
          "output_type": "execute_result",
          "data": {
            "text/plain": [
              "Parameter containing:\n",
              "tensor([[ 0.0539,  0.4224,  0.1722,  0.2179, -0.3346],\n",
              "        [-0.4162,  0.0744, -0.1779,  0.0076, -0.2441],\n",
              "        [-0.3310,  0.1990, -0.2176, -0.1843, -0.0221]], requires_grad=True)"
            ]
          },
          "metadata": {
            "tags": []
          },
          "execution_count": 135
        }
      ]
    },
    {
      "cell_type": "code",
      "metadata": {
        "id": "jPhKcQ95iFc-",
        "colab_type": "code",
        "colab": {}
      },
      "source": [
        "tgt_net.sync()"
      ],
      "execution_count": 0,
      "outputs": []
    },
    {
      "cell_type": "code",
      "metadata": {
        "id": "Wx4pAwc8iSdC",
        "colab_type": "code",
        "colab": {
          "base_uri": "https://localhost:8080/",
          "height": 85
        },
        "outputId": "f11217fd-09bf-4ac1-c71c-46774dddceb4"
      },
      "source": [
        "net.ff.weight"
      ],
      "execution_count": 137,
      "outputs": [
        {
          "output_type": "execute_result",
          "data": {
            "text/plain": [
              "Parameter containing:\n",
              "tensor([[1.0539, 1.4224, 1.1722, 1.2179, 0.6654],\n",
              "        [0.5838, 1.0744, 0.8221, 1.0076, 0.7559],\n",
              "        [0.6690, 1.1990, 0.7824, 0.8157, 0.9779]], requires_grad=True)"
            ]
          },
          "metadata": {
            "tags": []
          },
          "execution_count": 137
        }
      ]
    },
    {
      "cell_type": "code",
      "metadata": {
        "id": "Lr0CfxzyiVIg",
        "colab_type": "code",
        "colab": {
          "base_uri": "https://localhost:8080/",
          "height": 85
        },
        "outputId": "e5d85cd7-fd99-4a19-a896-fb5a33259162"
      },
      "source": [
        "tgt_net.target_model.ff.weight"
      ],
      "execution_count": 139,
      "outputs": [
        {
          "output_type": "execute_result",
          "data": {
            "text/plain": [
              "Parameter containing:\n",
              "tensor([[1.0539, 1.4224, 1.1722, 1.2179, 0.6654],\n",
              "        [0.5838, 1.0744, 0.8221, 1.0076, 0.7559],\n",
              "        [0.6690, 1.1990, 0.7824, 0.8157, 0.9779]], requires_grad=True)"
            ]
          },
          "metadata": {
            "tags": []
          },
          "execution_count": 139
        }
      ]
    },
    {
      "cell_type": "code",
      "metadata": {
        "id": "HQcspCbXiaHt",
        "colab_type": "code",
        "colab": {}
      },
      "source": [
        "tgt_net.alpha_sync(alpha=0.1)"
      ],
      "execution_count": 0,
      "outputs": []
    },
    {
      "cell_type": "code",
      "metadata": {
        "id": "ALGROKKZimIp",
        "colab_type": "code",
        "colab": {
          "base_uri": "https://localhost:8080/",
          "height": 85
        },
        "outputId": "567f8dbf-0128-427d-a957-87060fdd039f"
      },
      "source": [
        "tgt_net.target_model.ff.weight"
      ],
      "execution_count": 142,
      "outputs": [
        {
          "output_type": "execute_result",
          "data": {
            "text/plain": [
              "Parameter containing:\n",
              "tensor([[1.0539, 1.4224, 1.1722, 1.2179, 0.6654],\n",
              "        [0.5838, 1.0744, 0.8221, 1.0076, 0.7559],\n",
              "        [0.6690, 1.1990, 0.7824, 0.8157, 0.9779]], requires_grad=True)"
            ]
          },
          "metadata": {
            "tags": []
          },
          "execution_count": 142
        }
      ]
    },
    {
      "cell_type": "code",
      "metadata": {
        "id": "1uYcETnwisnL",
        "colab_type": "code",
        "colab": {}
      },
      "source": [
        ""
      ],
      "execution_count": 0,
      "outputs": []
    }
  ]
}